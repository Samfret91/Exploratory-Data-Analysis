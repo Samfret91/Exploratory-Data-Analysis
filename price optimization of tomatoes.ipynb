{
 "cells": [
  {
   "cell_type": "code",
   "execution_count": 240,
   "id": "aaefa732",
   "metadata": {},
   "outputs": [
    {
     "name": "stdout",
     "output_type": "stream",
     "text": [
      "c:\\mydatascienceproject\n"
     ]
    }
   ],
   "source": [
    "cd c:\\mydatascienceproject"
   ]
  },
  {
   "cell_type": "code",
   "execution_count": 241,
   "id": "040327ae",
   "metadata": {},
   "outputs": [],
   "source": [
    "#import libraries\n",
    "import pandas as pd\n",
    "from pandas import DataFrame\n",
    "import numpy as np\n",
    "import matplotlib.pyplot as plt\n",
    "import seaborn as sns\n",
    "from statsmodels.formula.api import ols\n",
    "%matplotlib inline\n",
    "import plotly.express as px"
   ]
  },
  {
   "cell_type": "code",
   "execution_count": 242,
   "id": "a83fea0e",
   "metadata": {},
   "outputs": [
    {
     "data": {
      "text/html": [
       "<div>\n",
       "<style scoped>\n",
       "    .dataframe tbody tr th:only-of-type {\n",
       "        vertical-align: middle;\n",
       "    }\n",
       "\n",
       "    .dataframe tbody tr th {\n",
       "        vertical-align: top;\n",
       "    }\n",
       "\n",
       "    .dataframe thead th {\n",
       "        text-align: right;\n",
       "    }\n",
       "</style>\n",
       "<table border=\"1\" class=\"dataframe\">\n",
       "  <thead>\n",
       "    <tr style=\"text-align: right;\">\n",
       "      <th></th>\n",
       "      <th>Month</th>\n",
       "      <th>Varieties</th>\n",
       "      <th>Basket</th>\n",
       "      <th>Price</th>\n",
       "    </tr>\n",
       "  </thead>\n",
       "  <tbody>\n",
       "    <tr>\n",
       "      <th>0</th>\n",
       "      <td>January</td>\n",
       "      <td>Cherry</td>\n",
       "      <td>20.2</td>\n",
       "      <td>250.750</td>\n",
       "    </tr>\n",
       "    <tr>\n",
       "      <th>1</th>\n",
       "      <td>January</td>\n",
       "      <td>Grape</td>\n",
       "      <td>20.7</td>\n",
       "      <td>251.033</td>\n",
       "    </tr>\n",
       "    <tr>\n",
       "      <th>2</th>\n",
       "      <td>January</td>\n",
       "      <td>Plum</td>\n",
       "      <td>18.9</td>\n",
       "      <td>240.200</td>\n",
       "    </tr>\n",
       "    <tr>\n",
       "      <th>3</th>\n",
       "      <td>January</td>\n",
       "      <td>Campari</td>\n",
       "      <td>18.3</td>\n",
       "      <td>230.600</td>\n",
       "    </tr>\n",
       "    <tr>\n",
       "      <th>4</th>\n",
       "      <td>January</td>\n",
       "      <td>Cherry</td>\n",
       "      <td>18.5</td>\n",
       "      <td>239.100</td>\n",
       "    </tr>\n",
       "  </tbody>\n",
       "</table>\n",
       "</div>"
      ],
      "text/plain": [
       "     Month Varieties  Basket    Price\n",
       "0  January    Cherry    20.2  250.750\n",
       "1  January     Grape    20.7  251.033\n",
       "2  January      Plum    18.9  240.200\n",
       "3  January   Campari    18.3  230.600\n",
       "4  January    Cherry    18.5  239.100"
      ]
     },
     "execution_count": 242,
     "metadata": {},
     "output_type": "execute_result"
    }
   ],
   "source": [
    "df = pd.read_csv('tomatoes_in_nigeria.csv')\n",
    "df.head()"
   ]
  },
  {
   "cell_type": "code",
   "execution_count": 243,
   "id": "49f3bb0e",
   "metadata": {},
   "outputs": [
    {
     "data": {
      "text/plain": [
       "(91, 4)"
      ]
     },
     "execution_count": 243,
     "metadata": {},
     "output_type": "execute_result"
    }
   ],
   "source": [
    "df.shape"
   ]
  },
  {
   "cell_type": "code",
   "execution_count": 244,
   "id": "d3f2ee0f",
   "metadata": {},
   "outputs": [
    {
     "data": {
      "text/html": [
       "<div>\n",
       "<style scoped>\n",
       "    .dataframe tbody tr th:only-of-type {\n",
       "        vertical-align: middle;\n",
       "    }\n",
       "\n",
       "    .dataframe tbody tr th {\n",
       "        vertical-align: top;\n",
       "    }\n",
       "\n",
       "    .dataframe thead th {\n",
       "        text-align: right;\n",
       "    }\n",
       "</style>\n",
       "<table border=\"1\" class=\"dataframe\">\n",
       "  <thead>\n",
       "    <tr style=\"text-align: right;\">\n",
       "      <th></th>\n",
       "      <th>Month</th>\n",
       "      <th>Varieties</th>\n",
       "      <th>Basket</th>\n",
       "      <th>Price</th>\n",
       "    </tr>\n",
       "  </thead>\n",
       "  <tbody>\n",
       "    <tr>\n",
       "      <th>1</th>\n",
       "      <td>January</td>\n",
       "      <td>Grape</td>\n",
       "      <td>20.7</td>\n",
       "      <td>251.0330</td>\n",
       "    </tr>\n",
       "    <tr>\n",
       "      <th>2</th>\n",
       "      <td>January</td>\n",
       "      <td>Plum</td>\n",
       "      <td>18.9</td>\n",
       "      <td>240.2000</td>\n",
       "    </tr>\n",
       "    <tr>\n",
       "      <th>3</th>\n",
       "      <td>January</td>\n",
       "      <td>Campari</td>\n",
       "      <td>18.3</td>\n",
       "      <td>230.6000</td>\n",
       "    </tr>\n",
       "    <tr>\n",
       "      <th>4</th>\n",
       "      <td>January</td>\n",
       "      <td>Cherry</td>\n",
       "      <td>18.5</td>\n",
       "      <td>239.1000</td>\n",
       "    </tr>\n",
       "    <tr>\n",
       "      <th>5</th>\n",
       "      <td>January</td>\n",
       "      <td>Grape</td>\n",
       "      <td>19.2</td>\n",
       "      <td>242.1667</td>\n",
       "    </tr>\n",
       "    <tr>\n",
       "      <th>6</th>\n",
       "      <td>January</td>\n",
       "      <td>Plum</td>\n",
       "      <td>17.9</td>\n",
       "      <td>220.4320</td>\n",
       "    </tr>\n",
       "    <tr>\n",
       "      <th>7</th>\n",
       "      <td>January</td>\n",
       "      <td>Campari</td>\n",
       "      <td>18.2</td>\n",
       "      <td>229.3300</td>\n",
       "    </tr>\n",
       "    <tr>\n",
       "      <th>8</th>\n",
       "      <td>January</td>\n",
       "      <td>Cherry</td>\n",
       "      <td>22.0</td>\n",
       "      <td>253.1100</td>\n",
       "    </tr>\n",
       "    <tr>\n",
       "      <th>9</th>\n",
       "      <td>January</td>\n",
       "      <td>Grape</td>\n",
       "      <td>21.8</td>\n",
       "      <td>253.0100</td>\n",
       "    </tr>\n",
       "    <tr>\n",
       "      <th>10</th>\n",
       "      <td>January</td>\n",
       "      <td>Plum</td>\n",
       "      <td>19.0</td>\n",
       "      <td>231.5000</td>\n",
       "    </tr>\n",
       "    <tr>\n",
       "      <th>11</th>\n",
       "      <td>February</td>\n",
       "      <td>Campari</td>\n",
       "      <td>19.1</td>\n",
       "      <td>222.7000</td>\n",
       "    </tr>\n",
       "    <tr>\n",
       "      <th>12</th>\n",
       "      <td>February</td>\n",
       "      <td>Cherry</td>\n",
       "      <td>16.1</td>\n",
       "      <td>142.1667</td>\n",
       "    </tr>\n",
       "    <tr>\n",
       "      <th>13</th>\n",
       "      <td>February</td>\n",
       "      <td>Grape</td>\n",
       "      <td>16.2</td>\n",
       "      <td>143.9333</td>\n",
       "    </tr>\n",
       "    <tr>\n",
       "      <th>14</th>\n",
       "      <td>February</td>\n",
       "      <td>Plum</td>\n",
       "      <td>19.4</td>\n",
       "      <td>223.8333</td>\n",
       "    </tr>\n",
       "    <tr>\n",
       "      <th>15</th>\n",
       "      <td>February</td>\n",
       "      <td>Campari</td>\n",
       "      <td>18.9</td>\n",
       "      <td>231.1667</td>\n",
       "    </tr>\n",
       "  </tbody>\n",
       "</table>\n",
       "</div>"
      ],
      "text/plain": [
       "       Month Varieties  Basket     Price\n",
       "1    January     Grape    20.7  251.0330\n",
       "2    January      Plum    18.9  240.2000\n",
       "3    January   Campari    18.3  230.6000\n",
       "4    January    Cherry    18.5  239.1000\n",
       "5    January     Grape    19.2  242.1667\n",
       "6    January      Plum    17.9  220.4320\n",
       "7    January   Campari    18.2  229.3300\n",
       "8    January    Cherry    22.0  253.1100\n",
       "9    January     Grape    21.8  253.0100\n",
       "10   January      Plum    19.0  231.5000\n",
       "11  February   Campari    19.1  222.7000\n",
       "12  February    Cherry    16.1  142.1667\n",
       "13  February     Grape    16.2  143.9333\n",
       "14  February      Plum    19.4  223.8333\n",
       "15  February   Campari    18.9  231.1667"
      ]
     },
     "execution_count": 244,
     "metadata": {},
     "output_type": "execute_result"
    }
   ],
   "source": [
    "df[1:16]"
   ]
  },
  {
   "cell_type": "code",
   "execution_count": 245,
   "id": "5ee8c1ab",
   "metadata": {},
   "outputs": [],
   "source": [
    "#let's do some exploratory data analysis (EDA)"
   ]
  },
  {
   "cell_type": "code",
   "execution_count": 246,
   "id": "455727e4",
   "metadata": {},
   "outputs": [
    {
     "data": {
      "text/plain": [
       "Month        12\n",
       "Varieties     4\n",
       "Basket       45\n",
       "Price        89\n",
       "dtype: int64"
      ]
     },
     "execution_count": 246,
     "metadata": {},
     "output_type": "execute_result"
    }
   ],
   "source": [
    "df.nunique()"
   ]
  },
  {
   "cell_type": "code",
   "execution_count": 247,
   "id": "4d58973d",
   "metadata": {},
   "outputs": [
    {
     "data": {
      "text/plain": [
       "array([20.2, 20.7, 18.9, 18.3, 18.5, 19.2, 17.9, 18.2, 22. , 21.8, 19. ,\n",
       "       19.1, 16.1, 16.2, 19.4, 19.5, 16.7, 17.8, 17.7, 19.3, 19.6, 18.8,\n",
       "       17.3, 17.1, 14.7, 15. , 20. , 20.5, 19.8, 20.1, 20.8, 17. , 17.5,\n",
       "       21.6, 21.9, 17.6, 17.2, 16.6, 17.4, 16.4, 16. , 15.9, 16.9, 16.5,\n",
       "       16.3])"
      ]
     },
     "execution_count": 247,
     "metadata": {},
     "output_type": "execute_result"
    }
   ],
   "source": [
    "df['Basket'].unique()"
   ]
  },
  {
   "cell_type": "code",
   "execution_count": 248,
   "id": "c9e5f52f",
   "metadata": {},
   "outputs": [
    {
     "data": {
      "text/plain": [
       "array([250.75  , 251.033 , 240.2   , 230.6   , 239.1   , 242.1667,\n",
       "       220.432 , 229.33  , 253.11  , 253.01  , 231.5   , 222.7   ,\n",
       "       142.1667, 143.9333, 223.8333, 231.1667, 237.5333, 238.1667,\n",
       "       278.    , 284.7667, 289.2333, 233.5   , 230.7   , 239.0333,\n",
       "       235.4333, 233.3   , 278.9667, 281.0667, 279.3   , 146.5   ,\n",
       "       150.8   , 242.9667, 244.0333, 227.5   , 233.1333, 233.8667,\n",
       "       240.9333, 234.3667, 227.1667, 238.4667, 238.    , 232.2   ,\n",
       "       233.2333, 234.9   , 230.4333, 222.7333, 226.4333, 229.2667,\n",
       "       250.1   , 254.5333, 255.    , 260.7   , 266.9667, 186.2   ,\n",
       "       186.4333, 211.7   , 268.0333, 266.9333, 272.6333, 281.2   ,\n",
       "       280.3667, 289.8667, 294.2667, 295.2   , 284.6333, 279.2   ,\n",
       "       282.2667, 286.8333, 282.6667, 286.6667, 292.1333, 300.4   ,\n",
       "       292.    , 286.1667, 279.5   , 279.1667, 283.8667, 283.1   ,\n",
       "       285.1   , 285.2667, 278.7   , 277.4   , 279.8   , 285.0333,\n",
       "       278.8   , 273.4667, 278.1   , 277.3667, 279.5333])"
      ]
     },
     "execution_count": 248,
     "metadata": {},
     "output_type": "execute_result"
    }
   ],
   "source": [
    "df['Price'].unique()"
   ]
  },
  {
   "cell_type": "code",
   "execution_count": 249,
   "id": "50edff49",
   "metadata": {},
   "outputs": [
    {
     "data": {
      "text/plain": [
       "22408.2651"
      ]
     },
     "execution_count": 249,
     "metadata": {},
     "output_type": "execute_result"
    }
   ],
   "source": [
    "df['Price'].unique().sum()"
   ]
  },
  {
   "cell_type": "code",
   "execution_count": 250,
   "id": "bf98b25c",
   "metadata": {},
   "outputs": [
    {
     "data": {
      "text/plain": [
       "825.0"
      ]
     },
     "execution_count": 250,
     "metadata": {},
     "output_type": "execute_result"
    }
   ],
   "source": [
    "df['Basket'].unique().sum()"
   ]
  },
  {
   "cell_type": "code",
   "execution_count": 251,
   "id": "9002240f",
   "metadata": {},
   "outputs": [
    {
     "data": {
      "text/plain": [
       "0"
      ]
     },
     "execution_count": 251,
     "metadata": {},
     "output_type": "execute_result"
    }
   ],
   "source": [
    "df.duplicated().sum()"
   ]
  },
  {
   "cell_type": "code",
   "execution_count": 252,
   "id": "89119896",
   "metadata": {},
   "outputs": [
    {
     "name": "stdout",
     "output_type": "stream",
     "text": [
      "<class 'pandas.core.frame.DataFrame'>\n",
      "RangeIndex: 91 entries, 0 to 90\n",
      "Data columns (total 4 columns):\n",
      " #   Column     Non-Null Count  Dtype  \n",
      "---  ------     --------------  -----  \n",
      " 0   Month      91 non-null     object \n",
      " 1   Varieties  91 non-null     object \n",
      " 2   Basket     91 non-null     float64\n",
      " 3   Price      91 non-null     float64\n",
      "dtypes: float64(2), object(2)\n",
      "memory usage: 3.0+ KB\n"
     ]
    }
   ],
   "source": [
    "df.info()"
   ]
  },
  {
   "cell_type": "code",
   "execution_count": 253,
   "id": "d762f5a1",
   "metadata": {},
   "outputs": [
    {
     "data": {
      "text/html": [
       "<div>\n",
       "<style scoped>\n",
       "    .dataframe tbody tr th:only-of-type {\n",
       "        vertical-align: middle;\n",
       "    }\n",
       "\n",
       "    .dataframe tbody tr th {\n",
       "        vertical-align: top;\n",
       "    }\n",
       "\n",
       "    .dataframe thead th {\n",
       "        text-align: right;\n",
       "    }\n",
       "</style>\n",
       "<table border=\"1\" class=\"dataframe\">\n",
       "  <thead>\n",
       "    <tr style=\"text-align: right;\">\n",
       "      <th></th>\n",
       "      <th>Basket</th>\n",
       "      <th>Price</th>\n",
       "    </tr>\n",
       "  </thead>\n",
       "  <tbody>\n",
       "    <tr>\n",
       "      <th>count</th>\n",
       "      <td>91.000000</td>\n",
       "      <td>91.000000</td>\n",
       "    </tr>\n",
       "    <tr>\n",
       "      <th>mean</th>\n",
       "      <td>18.076923</td>\n",
       "      <td>252.573243</td>\n",
       "    </tr>\n",
       "    <tr>\n",
       "      <th>std</th>\n",
       "      <td>1.628160</td>\n",
       "      <td>34.891095</td>\n",
       "    </tr>\n",
       "    <tr>\n",
       "      <th>min</th>\n",
       "      <td>14.700000</td>\n",
       "      <td>142.166700</td>\n",
       "    </tr>\n",
       "    <tr>\n",
       "      <th>25%</th>\n",
       "      <td>16.800000</td>\n",
       "      <td>233.183300</td>\n",
       "    </tr>\n",
       "    <tr>\n",
       "      <th>50%</th>\n",
       "      <td>17.700000</td>\n",
       "      <td>253.110000</td>\n",
       "    </tr>\n",
       "    <tr>\n",
       "      <th>75%</th>\n",
       "      <td>19.250000</td>\n",
       "      <td>280.716700</td>\n",
       "    </tr>\n",
       "    <tr>\n",
       "      <th>max</th>\n",
       "      <td>22.000000</td>\n",
       "      <td>300.400000</td>\n",
       "    </tr>\n",
       "  </tbody>\n",
       "</table>\n",
       "</div>"
      ],
      "text/plain": [
       "          Basket       Price\n",
       "count  91.000000   91.000000\n",
       "mean   18.076923  252.573243\n",
       "std     1.628160   34.891095\n",
       "min    14.700000  142.166700\n",
       "25%    16.800000  233.183300\n",
       "50%    17.700000  253.110000\n",
       "75%    19.250000  280.716700\n",
       "max    22.000000  300.400000"
      ]
     },
     "execution_count": 253,
     "metadata": {},
     "output_type": "execute_result"
    }
   ],
   "source": [
    "df.describe()"
   ]
  },
  {
   "cell_type": "code",
   "execution_count": 254,
   "id": "d0d1ada7",
   "metadata": {},
   "outputs": [
    {
     "name": "stdout",
     "output_type": "stream",
     "text": [
      "Basket    0.377875\n",
      "Price    -1.215275\n",
      "dtype: float64\n"
     ]
    },
    {
     "name": "stderr",
     "output_type": "stream",
     "text": [
      "C:\\Users\\OYEBOLA JOE\\AppData\\Local\\Temp\\ipykernel_10348\\30230982.py:2: FutureWarning: Dropping of nuisance columns in DataFrame reductions (with 'numeric_only=None') is deprecated; in a future version this will raise TypeError.  Select only valid columns before calling the reduction.\n",
      "  print(df.skew())\n"
     ]
    }
   ],
   "source": [
    "#finding outliers with skewness\n",
    "print(df.skew())"
   ]
  },
  {
   "cell_type": "code",
   "execution_count": 255,
   "id": "d9479c7a",
   "metadata": {},
   "outputs": [
    {
     "name": "stderr",
     "output_type": "stream",
     "text": [
      "C:\\Users\\OYEBOLA JOE\\anaconda3\\lib\\site-packages\\seaborn\\distributions.py:2619: FutureWarning: `distplot` is a deprecated function and will be removed in a future version. Please adapt your code to use either `displot` (a figure-level function with similar flexibility) or `histplot` (an axes-level function for histograms).\n",
      "  warnings.warn(msg, FutureWarning)\n"
     ]
    },
    {
     "data": {
      "text/plain": [
       "<AxesSubplot:xlabel='Basket', ylabel='Density'>"
      ]
     },
     "execution_count": 255,
     "metadata": {},
     "output_type": "execute_result"
    },
    {
     "data": {
      "image/png": "[encoded data removed]",
      "text/plain": [
       "<Figure size 432x288 with 1 Axes>"
      ]
     },
     "metadata": {
      "needs_background": "light"
     },
     "output_type": "display_data"
    }
   ],
   "source": [
    "#to visualize the data(univariate and multivariate)\n",
    "sns.distplot(df['Basket'])\n"
   ]
  },
  {
   "cell_type": "code",
   "execution_count": 256,
   "id": "c0fbb55b",
   "metadata": {},
   "outputs": [
    {
     "name": "stderr",
     "output_type": "stream",
     "text": [
      "C:\\Users\\OYEBOLA JOE\\anaconda3\\lib\\site-packages\\seaborn\\distributions.py:2619: FutureWarning: `distplot` is a deprecated function and will be removed in a future version. Please adapt your code to use either `displot` (a figure-level function with similar flexibility) or `histplot` (an axes-level function for histograms).\n",
      "  warnings.warn(msg, FutureWarning)\n"
     ]
    },
    {
     "data": {
      "text/plain": [
       "<AxesSubplot:xlabel='Price', ylabel='Density'>"
      ]
     },
     "execution_count": 256,
     "metadata": {},
     "output_type": "execute_result"
    },
    {
     "data": {
      "image/png": "[encoded data removed]",
      "text/plain": [
       "<Figure size 432x288 with 1 Axes>"
      ]
     },
     "metadata": {
      "needs_background": "light"
     },
     "output_type": "display_data"
    }
   ],
   "source": [
    "sns.distplot(df['Price'])"
   ]
  },
  {
   "cell_type": "code",
   "execution_count": 257,
   "id": "e5b266ff",
   "metadata": {},
   "outputs": [
    {
     "data": {
      "text/plain": [
       "<seaborn.axisgrid.PairGrid at 0x1fc8a0bcd00>"
      ]
     },
     "execution_count": 257,
     "metadata": {},
     "output_type": "execute_result"
    },
    {
     "data": {
      "image/png": "[encoded data removed]",
      "text/plain": [
       "<Figure size 360x360 with 6 Axes>"
      ]
     },
     "metadata": {
      "needs_background": "light"
     },
     "output_type": "display_data"
    }
   ],
   "source": [
    "df2 = df[['Basket', 'Price']]\n",
    "sns.pairplot(df2, height=2.5)"
   ]
  },
  {
   "cell_type": "code",
   "execution_count": 258,
   "id": "d527587e",
   "metadata": {},
   "outputs": [
    {
     "data": {
      "text/plain": [
       "<AxesSubplot:xlabel='Price', ylabel='Basket'>"
      ]
     },
     "execution_count": 258,
     "metadata": {},
     "output_type": "execute_result"
    },
    {
     "data": {
      "image/png": "[encoded data removed]",
      "text/plain": [
       "<Figure size 432x288 with 1 Axes>"
      ]
     },
     "metadata": {
      "needs_background": "light"
     },
     "output_type": "display_data"
    }
   ],
   "source": [
    "sns.scatterplot(x='Price', y='Basket', data=df)"
   ]
  },
  {
   "cell_type": "code",
   "execution_count": 259,
   "id": "4d42a47c",
   "metadata": {},
   "outputs": [
    {
     "data": {
      "text/plain": [
       "<AxesSubplot:xlabel='Price'>"
      ]
     },
     "execution_count": 259,
     "metadata": {},
     "output_type": "execute_result"
    },
    {
     "data": {
      "image/png": "[encoded data removed]",
      "text/plain": [
       "<Figure size 432x288 with 1 Axes>"
      ]
     },
     "metadata": {
      "needs_background": "light"
     },
     "output_type": "display_data"
    }
   ],
   "source": [
    "sns.boxplot(data=df, x='Price')"
   ]
  },
  {
   "cell_type": "code",
   "execution_count": 260,
   "id": "e1b9792f",
   "metadata": {},
   "outputs": [
    {
     "data": {
      "text/plain": [
       "<AxesSubplot:xlabel='Basket'>"
      ]
     },
     "execution_count": 260,
     "metadata": {},
     "output_type": "execute_result"
    },
    {
     "data": {
      "image/png": "[encoded data removed]",
      "text/plain": [
       "<Figure size 432x288 with 1 Axes>"
      ]
     },
     "metadata": {
      "needs_background": "light"
     },
     "output_type": "display_data"
    }
   ],
   "source": [
    "sns.boxplot(data=df, x='Basket')"
   ]
  },
  {
   "cell_type": "code",
   "execution_count": 261,
   "id": "c7d9bd4d",
   "metadata": {},
   "outputs": [
    {
     "data": {
      "text/html": [
       "<div>\n",
       "<style scoped>\n",
       "    .dataframe tbody tr th:only-of-type {\n",
       "        vertical-align: middle;\n",
       "    }\n",
       "\n",
       "    .dataframe tbody tr th {\n",
       "        vertical-align: top;\n",
       "    }\n",
       "\n",
       "    .dataframe thead th {\n",
       "        text-align: right;\n",
       "    }\n",
       "</style>\n",
       "<table border=\"1\" class=\"dataframe\">\n",
       "  <thead>\n",
       "    <tr style=\"text-align: right;\">\n",
       "      <th></th>\n",
       "      <th>Basket</th>\n",
       "      <th>Price</th>\n",
       "    </tr>\n",
       "  </thead>\n",
       "  <tbody>\n",
       "    <tr>\n",
       "      <th>Basket</th>\n",
       "      <td>1.000000</td>\n",
       "      <td>-0.362953</td>\n",
       "    </tr>\n",
       "    <tr>\n",
       "      <th>Price</th>\n",
       "      <td>-0.362953</td>\n",
       "      <td>1.000000</td>\n",
       "    </tr>\n",
       "  </tbody>\n",
       "</table>\n",
       "</div>"
      ],
      "text/plain": [
       "          Basket     Price\n",
       "Basket  1.000000 -0.362953\n",
       "Price  -0.362953  1.000000"
      ]
     },
     "execution_count": 261,
     "metadata": {},
     "output_type": "execute_result"
    }
   ],
   "source": [
    "df2.corr()"
   ]
  },
  {
   "cell_type": "code",
   "execution_count": 262,
   "id": "4402299f",
   "metadata": {},
   "outputs": [
    {
     "data": {
      "text/plain": [
       "<AxesSubplot:>"
      ]
     },
     "execution_count": 262,
     "metadata": {},
     "output_type": "execute_result"
    },
    {
     "data": {
      "image/png": "[encoded data removed]",
      "text/plain": [
       "<Figure size 432x288 with 2 Axes>"
      ]
     },
     "metadata": {
      "needs_background": "light"
     },
     "output_type": "display_data"
    }
   ],
   "source": [
    "sns.heatmap(df.corr())"
   ]
  },
  {
   "cell_type": "code",
   "execution_count": 263,
   "id": "8bb4e98d",
   "metadata": {},
   "outputs": [
    {
     "name": "stdout",
     "output_type": "stream",
     "text": [
      "233.1833\n",
      "280.7167\n"
     ]
    }
   ],
   "source": [
    "#the data has outliers that is neccesary we treat\n",
    "print(df['Price'].quantile(0.25))\n",
    "print(df['Price'].quantile(0.75))"
   ]
  },
  {
   "cell_type": "code",
   "execution_count": 264,
   "id": "603981e2",
   "metadata": {},
   "outputs": [
    {
     "name": "stdout",
     "output_type": "stream",
     "text": [
      "161.8832\n",
      "352.0168\n"
     ]
    }
   ],
   "source": [
    "q1 = df['Price'].quantile(0.25)\n",
    "q3 = df['Price'].quantile(0.75)\n",
    "IQR = q3 - q1\n",
    "print(q1 - 1.5*IQR)\n",
    "print(q3 + 1.5*IQR)"
   ]
  },
  {
   "cell_type": "code",
   "execution_count": 265,
   "id": "aaef8814",
   "metadata": {},
   "outputs": [
    {
     "data": {
      "text/html": [
       "<div>\n",
       "<style scoped>\n",
       "    .dataframe tbody tr th:only-of-type {\n",
       "        vertical-align: middle;\n",
       "    }\n",
       "\n",
       "    .dataframe tbody tr th {\n",
       "        vertical-align: top;\n",
       "    }\n",
       "\n",
       "    .dataframe thead th {\n",
       "        text-align: right;\n",
       "    }\n",
       "</style>\n",
       "<table border=\"1\" class=\"dataframe\">\n",
       "  <thead>\n",
       "    <tr style=\"text-align: right;\">\n",
       "      <th></th>\n",
       "      <th>Month</th>\n",
       "      <th>Varieties</th>\n",
       "      <th>Basket</th>\n",
       "      <th>Price</th>\n",
       "    </tr>\n",
       "  </thead>\n",
       "  <tbody>\n",
       "    <tr>\n",
       "      <th>1</th>\n",
       "      <td>January</td>\n",
       "      <td>Grape</td>\n",
       "      <td>20.7</td>\n",
       "      <td>251.0330</td>\n",
       "    </tr>\n",
       "    <tr>\n",
       "      <th>2</th>\n",
       "      <td>January</td>\n",
       "      <td>Plum</td>\n",
       "      <td>18.9</td>\n",
       "      <td>240.2000</td>\n",
       "    </tr>\n",
       "    <tr>\n",
       "      <th>3</th>\n",
       "      <td>January</td>\n",
       "      <td>Campari</td>\n",
       "      <td>18.3</td>\n",
       "      <td>230.6000</td>\n",
       "    </tr>\n",
       "    <tr>\n",
       "      <th>4</th>\n",
       "      <td>January</td>\n",
       "      <td>Cherry</td>\n",
       "      <td>18.5</td>\n",
       "      <td>239.1000</td>\n",
       "    </tr>\n",
       "    <tr>\n",
       "      <th>5</th>\n",
       "      <td>January</td>\n",
       "      <td>Grape</td>\n",
       "      <td>19.2</td>\n",
       "      <td>242.1667</td>\n",
       "    </tr>\n",
       "    <tr>\n",
       "      <th>6</th>\n",
       "      <td>January</td>\n",
       "      <td>Plum</td>\n",
       "      <td>17.9</td>\n",
       "      <td>220.4320</td>\n",
       "    </tr>\n",
       "    <tr>\n",
       "      <th>7</th>\n",
       "      <td>January</td>\n",
       "      <td>Campari</td>\n",
       "      <td>18.2</td>\n",
       "      <td>229.3300</td>\n",
       "    </tr>\n",
       "    <tr>\n",
       "      <th>8</th>\n",
       "      <td>January</td>\n",
       "      <td>Cherry</td>\n",
       "      <td>22.0</td>\n",
       "      <td>253.1100</td>\n",
       "    </tr>\n",
       "    <tr>\n",
       "      <th>9</th>\n",
       "      <td>January</td>\n",
       "      <td>Grape</td>\n",
       "      <td>21.8</td>\n",
       "      <td>253.0100</td>\n",
       "    </tr>\n",
       "    <tr>\n",
       "      <th>10</th>\n",
       "      <td>January</td>\n",
       "      <td>Plum</td>\n",
       "      <td>19.0</td>\n",
       "      <td>231.5000</td>\n",
       "    </tr>\n",
       "    <tr>\n",
       "      <th>11</th>\n",
       "      <td>February</td>\n",
       "      <td>Campari</td>\n",
       "      <td>19.1</td>\n",
       "      <td>222.7000</td>\n",
       "    </tr>\n",
       "    <tr>\n",
       "      <th>12</th>\n",
       "      <td>February</td>\n",
       "      <td>Cherry</td>\n",
       "      <td>16.1</td>\n",
       "      <td>142.1667</td>\n",
       "    </tr>\n",
       "    <tr>\n",
       "      <th>13</th>\n",
       "      <td>February</td>\n",
       "      <td>Grape</td>\n",
       "      <td>16.2</td>\n",
       "      <td>143.9333</td>\n",
       "    </tr>\n",
       "    <tr>\n",
       "      <th>14</th>\n",
       "      <td>February</td>\n",
       "      <td>Plum</td>\n",
       "      <td>19.4</td>\n",
       "      <td>223.8333</td>\n",
       "    </tr>\n",
       "    <tr>\n",
       "      <th>15</th>\n",
       "      <td>February</td>\n",
       "      <td>Campari</td>\n",
       "      <td>18.9</td>\n",
       "      <td>231.1667</td>\n",
       "    </tr>\n",
       "    <tr>\n",
       "      <th>16</th>\n",
       "      <td>February</td>\n",
       "      <td>Cherry</td>\n",
       "      <td>19.2</td>\n",
       "      <td>237.5333</td>\n",
       "    </tr>\n",
       "    <tr>\n",
       "      <th>17</th>\n",
       "      <td>February</td>\n",
       "      <td>Grape</td>\n",
       "      <td>19.5</td>\n",
       "      <td>238.1667</td>\n",
       "    </tr>\n",
       "    <tr>\n",
       "      <th>18</th>\n",
       "      <td>February</td>\n",
       "      <td>Plum</td>\n",
       "      <td>16.7</td>\n",
       "      <td>278.0000</td>\n",
       "    </tr>\n",
       "    <tr>\n",
       "      <th>19</th>\n",
       "      <td>February</td>\n",
       "      <td>Campari</td>\n",
       "      <td>17.8</td>\n",
       "      <td>284.7667</td>\n",
       "    </tr>\n",
       "  </tbody>\n",
       "</table>\n",
       "</div>"
      ],
      "text/plain": [
       "       Month Varieties  Basket     Price\n",
       "1    January     Grape    20.7  251.0330\n",
       "2    January      Plum    18.9  240.2000\n",
       "3    January   Campari    18.3  230.6000\n",
       "4    January    Cherry    18.5  239.1000\n",
       "5    January     Grape    19.2  242.1667\n",
       "6    January      Plum    17.9  220.4320\n",
       "7    January   Campari    18.2  229.3300\n",
       "8    January    Cherry    22.0  253.1100\n",
       "9    January     Grape    21.8  253.0100\n",
       "10   January      Plum    19.0  231.5000\n",
       "11  February   Campari    19.1  222.7000\n",
       "12  February    Cherry    16.1  142.1667\n",
       "13  February     Grape    16.2  143.9333\n",
       "14  February      Plum    19.4  223.8333\n",
       "15  February   Campari    18.9  231.1667\n",
       "16  February    Cherry    19.2  237.5333\n",
       "17  February     Grape    19.5  238.1667\n",
       "18  February      Plum    16.7  278.0000\n",
       "19  February   Campari    17.8  284.7667"
      ]
     },
     "execution_count": 265,
     "metadata": {},
     "output_type": "execute_result"
    }
   ],
   "source": [
    "q1 = df['Price'].quantile(0.25)\n",
    "q3 = df['Price'].quantile(0.75)\n",
    "IQR = q3 - q1\n",
    "ll = q1 - 1.5*IQR\n",
    "ul = q3 + 1.5*IQR\n",
    "Price_out = df['Price']<ll\n",
    "df[1:20]"
   ]
  },
  {
   "cell_type": "code",
   "execution_count": 266,
   "id": "1ada2f86",
   "metadata": {},
   "outputs": [
    {
     "name": "stdout",
     "output_type": "stream",
     "text": [
      "-1.2152750713371852\n"
     ]
    }
   ],
   "source": [
    "print(df['Price'].skew())"
   ]
  },
  {
   "cell_type": "code",
   "execution_count": 323,
   "id": "43a59408",
   "metadata": {},
   "outputs": [
    {
     "name": "stdout",
     "output_type": "stream",
     "text": [
      "-0.3633120459291908\n"
     ]
    }
   ],
   "source": [
    "print(df['Price'].skew())"
   ]
  },
  {
   "cell_type": "code",
   "execution_count": 268,
   "id": "cb54308c",
   "metadata": {},
   "outputs": [
    {
     "data": {
      "text/plain": [
       "<AxesSubplot:xlabel='Price', ylabel='Basket'>"
      ]
     },
     "execution_count": 268,
     "metadata": {},
     "output_type": "execute_result"
    },
    {
     "data": {
      "image/png": "[encoded data removed]",
      "text/plain": [
       "<Figure size 432x288 with 1 Axes>"
      ]
     },
     "metadata": {
      "needs_background": "light"
     },
     "output_type": "display_data"
    }
   ],
   "source": [
    "sns.scatterplot(x='Price', y='Basket', data=df)"
   ]
  },
  {
   "cell_type": "code",
   "execution_count": 306,
   "id": "5d792b2c",
   "metadata": {},
   "outputs": [
    {
     "data": {
      "text/plain": [
       "<AxesSubplot:xlabel='Price', ylabel='Basket'>"
      ]
     },
     "execution_count": 306,
     "metadata": {},
     "output_type": "execute_result"
    },
    {
     "data": {
      "image/png": "[encoded data removed]",
      "text/plain": [
       "<Figure size 432x288 with 1 Axes>"
      ]
     },
     "metadata": {
      "needs_background": "light"
     },
     "output_type": "display_data"
    }
   ],
   "source": [
    "df['Basket'] = np.where(df['Basket']>21,21,df['Basket'])\n",
    "sns.scatterplot(x='Price', y='Basket', data=df)"
   ]
  },
  {
   "cell_type": "code",
   "execution_count": 325,
   "id": "e7b9afe4",
   "metadata": {},
   "outputs": [
    {
     "data": {
      "text/plain": [
       "<AxesSubplot:xlabel='Price'>"
      ]
     },
     "execution_count": 325,
     "metadata": {},
     "output_type": "execute_result"
    },
    {
     "data": {
      "image/png": "[encoded data removed]",
      "text/plain": [
       "<Figure size 432x288 with 1 Axes>"
      ]
     },
     "metadata": {
      "needs_background": "light"
     },
     "output_type": "display_data"
    }
   ],
   "source": [
    "q1 = df['Price'].quantile(0.25)\n",
    "q3 = df['Price'].quantile(0.75)\n",
    "IQR = q3 - q1\n",
    "ll = q1 - 1.5*IQR\n",
    "ul = q3 + 1.5*IQR\n",
    "index = df['Price'][(df['Price']>ul) | (df['Price']<ll)].index\n",
    "df.drop(index,inplace=True)\n",
    "sns.boxplot(data=df, x='Price')"
   ]
  },
  {
   "cell_type": "code",
   "execution_count": null,
   "id": "5cf1b938",
   "metadata": {},
   "outputs": [],
   "source": [
    "#EDA has been carried out on the data which makes it clean and ready for modelling"
   ]
  }
 ],
 "metadata": {
  "kernelspec": {
   "display_name": "Python 3 (ipykernel)",
   "language": "python",
   "name": "python3"
  },
  "language_info": {
   "codemirror_mode": {
    "name": "ipython",
    "version": 3
   },
   "file_extension": ".py",
   "mimetype": "text/x-python",
   "name": "python",
   "nbconvert_exporter": "python",
   "pygments_lexer": "ipython3",
   "version": "3.9.12"
  }
 },
 "nbformat": 4,
 "nbformat_minor": 5
}
